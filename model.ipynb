{
 "cells": [
  {
   "cell_type": "code",
   "execution_count": 1,
   "id": "24681916-bbdf-4884-939a-e156378616b8",
   "metadata": {},
   "outputs": [],
   "source": [
    "# from model.unet3d import UNet3d_\n",
    "from model.vnet import VNet"
   ]
  },
  {
   "cell_type": "code",
   "execution_count": 2,
   "id": "de44c057-f74f-4d0c-8e6e-d67f78142282",
   "metadata": {},
   "outputs": [],
   "source": [
    "net = VNet()"
   ]
  },
  {
   "cell_type": "code",
   "execution_count": 3,
   "id": "08f0a5f4-b8f6-4a75-896d-1bd7fdbaaa18",
   "metadata": {},
   "outputs": [],
   "source": [
    "import mindspore as ms\n",
    "from mindspore.common.initializer import One, Normal"
   ]
  },
  {
   "cell_type": "code",
   "execution_count": 4,
   "id": "99bf94eb-e03f-4060-90f4-7b37e4def0ff",
   "metadata": {},
   "outputs": [],
   "source": [
    "tensor = ms.Tensor(shape=(2, 1, 64, 128, 128), dtype=ms.float32, init=Normal())"
   ]
  },
  {
   "cell_type": "code",
   "execution_count": 5,
   "id": "b15762d6-b74e-40dd-8529-60afaa7e20f4",
   "metadata": {},
   "outputs": [
    {
     "name": "stdout",
     "output_type": "stream",
     "text": [
      "(  2,  32,  64, 128, 128)\n",
      "(  2,   3,  64, 128, 128)\n",
      "(  2,   3,  64, 128, 128)\n"
     ]
    }
   ],
   "source": [
    "pred = net(tensor)"
   ]
  },
  {
   "cell_type": "code",
   "execution_count": null,
   "id": "93aa8a82-60b2-4d65-ae50-a9b2ac041839",
   "metadata": {},
   "outputs": [],
   "source": [
    "pred.shape"
   ]
  },
  {
   "cell_type": "code",
   "execution_count": 2,
   "id": "b6bb48a9-4750-46b5-b79e-ac4295de6bc4",
   "metadata": {},
   "outputs": [
    {
     "name": "stdout",
     "output_type": "stream",
     "text": [
      "Fri Oct  7 00:06:06 2022       \n",
      "+-----------------------------------------------------------------------------+\n",
      "| NVIDIA-SMI 470.141.03   Driver Version: 470.141.03   CUDA Version: 11.4     |\n",
      "|-------------------------------+----------------------+----------------------+\n",
      "| GPU  Name        Persistence-M| Bus-Id        Disp.A | Volatile Uncorr. ECC |\n",
      "| Fan  Temp  Perf  Pwr:Usage/Cap|         Memory-Usage | GPU-Util  Compute M. |\n",
      "|                               |                      |               MIG M. |\n",
      "|===============================+======================+======================|\n",
      "|   0  Tesla V100S-PCI...  Off  | 00000000:5E:00.0 Off |                    0 |\n",
      "| N/A   46C    P0    39W / 250W |    885MiB / 32510MiB |     17%      Default |\n",
      "|                               |                      |                  N/A |\n",
      "+-------------------------------+----------------------+----------------------+\n",
      "                                                                               \n",
      "+-----------------------------------------------------------------------------+\n",
      "| Processes:                                                                  |\n",
      "|  GPU   GI   CI        PID   Type   Process name                  GPU Memory |\n",
      "|        ID   ID                                                   Usage      |\n",
      "|=============================================================================|\n",
      "|    0   N/A  N/A     31586      C   python                            881MiB |\n",
      "+-----------------------------------------------------------------------------+\n"
     ]
    }
   ],
   "source": [
    "!nvidia-smi"
   ]
  },
  {
   "cell_type": "code",
   "execution_count": 1,
   "id": "919c83cc-d921-4bb3-8c88-f00ae2a3b831",
   "metadata": {},
   "outputs": [],
   "source": [
    "import numpy as np"
   ]
  },
  {
   "cell_type": "code",
   "execution_count": 2,
   "id": "b289c3a8-d39f-46dc-bbdc-ed738edce6ab",
   "metadata": {},
   "outputs": [],
   "source": [
    "x = np.array([1,2,1])"
   ]
  },
  {
   "cell_type": "code",
   "execution_count": 7,
   "id": "5750dfaa-de08-47c2-a2a8-41d904f0f216",
   "metadata": {},
   "outputs": [
    {
     "data": {
      "text/plain": [
       "(array([0, 2, 1, 0, 0]), array([0., 1., 2., 3., 4., 5.]))"
      ]
     },
     "execution_count": 7,
     "metadata": {},
     "output_type": "execute_result"
    }
   ],
   "source": [
    "np.histogram(x, bins=5, range=(0,5))"
   ]
  },
  {
   "cell_type": "code",
   "execution_count": 16,
   "id": "e4ceccbd-4c3c-433b-95b3-5e68082b2780",
   "metadata": {},
   "outputs": [],
   "source": [
    "a = np.array([[1, 2, 3, 4, 5],\n",
    "            [2, 3, 1, 5, 4]])\n",
    "b = np.array([[4, 2, 1, 4, 3],\n",
    "              [2, 3, 5, 1, 4]])"
   ]
  },
  {
   "cell_type": "code",
   "execution_count": 17,
   "id": "4627e692-e754-4a71-8fe7-0056276e9a42",
   "metadata": {},
   "outputs": [
    {
     "data": {
      "text/plain": [
       "array([2, 4, 2, 3, 4])"
      ]
     },
     "execution_count": 17,
     "metadata": {},
     "output_type": "execute_result"
    }
   ],
   "source": [
    "a[a==b]"
   ]
  },
  {
   "cell_type": "code",
   "execution_count": null,
   "id": "7dada2ce-e6b9-4de5-8c34-27ba22f2adb8",
   "metadata": {},
   "outputs": [],
   "source": []
  }
 ],
 "metadata": {
  "kernelspec": {
   "display_name": "Python 3 (ipykernel)",
   "language": "python",
   "name": "python3"
  },
  "language_info": {
   "codemirror_mode": {
    "name": "ipython",
    "version": 3
   },
   "file_extension": ".py",
   "mimetype": "text/x-python",
   "name": "python",
   "nbconvert_exporter": "python",
   "pygments_lexer": "ipython3",
   "version": "3.9.12"
  }
 },
 "nbformat": 4,
 "nbformat_minor": 5
}
