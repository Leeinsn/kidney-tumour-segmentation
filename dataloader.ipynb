{
 "cells": [
  {
   "cell_type": "code",
   "execution_count": 1,
   "id": "921b47f0-4d19-4faf-9d2f-2b63f1f29bb9",
   "metadata": {},
   "outputs": [],
   "source": [
    "import mindspore.dataset as ds\n",
    "import numpy as np\n",
    "import transforms\n",
    "from mindspore.dataset import GeneratorDataset\n",
    "from mindspore.dataset import vision\n",
    "from transforms import ExpandChannel, ScaleIntensityRange, OneHot\n",
    "from mindspore.dataset.transforms.transforms import Compose"
   ]
  },
  {
   "cell_type": "code",
   "execution_count": 2,
   "id": "ed136b23-e7ae-4b77-ade7-ec190098fd69",
   "metadata": {},
   "outputs": [],
   "source": [
    "class kits19(object):    \n",
    "    def __init__(self, isTrain=True):\n",
    "        super(kits19, self).__init__()\n",
    "        \n",
    "        with open('./processed_data/process_step2/train.list') as f:\n",
    "            train_list = f.readlines()\n",
    "        f.close()\n",
    "\n",
    "        with open('./processed_data/process_step2/val.list') as f:\n",
    "            val_list = f.readlines()\n",
    "        f.close()\n",
    "        \n",
    "        if isTrain:\n",
    "            self.data_list = train_list\n",
    "        else:\n",
    "            self.data_list = val_list\n",
    "\n",
    "    def __getitem__(self, idx):\n",
    "        path = self.data_list[idx].strip().split(' ')\n",
    "        img = np.expand_dims(np.load(path[0]), 0)\n",
    "        seg = np.expand_dims(np.load(path[1]), 0)\n",
    "        return img, seg\n",
    "        \n",
    "    def __len__(self):\n",
    "        return len(self.data_list)"
   ]
  },
  {
   "cell_type": "code",
   "execution_count": 3,
   "id": "e8cab7ed-13cc-458c-af49-c112c196d094",
   "metadata": {},
   "outputs": [],
   "source": [
    "dataset = kits19()\n",
    "dataset = GeneratorDataset(source=dataset, column_names=['img', 'label'],\n",
    "                          num_parallel_workers=4, shuffle=True)\n",
    "dataset = dataset.batch(2)\n",
    "trans = Compose([ScaleIntensityRange(src_min=0, src_max=255, tgt_min=0.0, \\\n",
    "                                   tgt_max=1.0, is_clip=True),\n",
    "                 OneHot(num_classes=3)])\n",
    "\n",
    "train_loader = dataset.map(operations=trans, input_columns=[\"img\", \"label\"], num_parallel_workers=1,\n",
    "                                    python_multiprocessing=True)\n"
   ]
  },
  {
   "cell_type": "code",
   "execution_count": 4,
   "id": "893eda01-9743-407d-9c16-a223ba30a557",
   "metadata": {},
   "outputs": [
    {
     "data": {
      "text/plain": [
       "6400"
      ]
     },
     "execution_count": 4,
     "metadata": {},
     "output_type": "execute_result"
    }
   ],
   "source": [
    "train_loader.get_dataset_size()"
   ]
  },
  {
   "cell_type": "code",
   "execution_count": 5,
   "id": "279edf8a-de21-4bbc-b244-6e05e63ff20a",
   "metadata": {},
   "outputs": [
    {
     "name": "stderr",
     "output_type": "stream",
     "text": [
      "[WARNING] ME(37534:139830819799232,_MPWorker-16):2022-10-07-01:13:33.269.924 [mindspore/dataset/engine/queue.py:120] Using shared memory queue, but rowsize is larger than allocated memory max_rowsize 16777216 current rowsize 16777216\n"
     ]
    }
   ],
   "source": [
    "for data in train_loader.create_dict_iterator():\n",
    "    # print(x.shape)\n",
    "    break"
   ]
  },
  {
   "cell_type": "code",
   "execution_count": 6,
   "id": "81659756-3cef-46ab-abe4-7d2f246993f4",
   "metadata": {},
   "outputs": [
    {
     "data": {
      "text/plain": [
       "((2, 1, 64, 128, 128), (2, 3, 64, 128, 128))"
      ]
     },
     "execution_count": 6,
     "metadata": {},
     "output_type": "execute_result"
    }
   ],
   "source": [
    "data['img'].shape, data['label'].shape"
   ]
  },
  {
   "cell_type": "code",
   "execution_count": null,
   "id": "23cb08dc-d7ab-4ea5-895c-a55e818878ec",
   "metadata": {},
   "outputs": [],
   "source": []
  }
 ],
 "metadata": {
  "kernelspec": {
   "display_name": "Python 3 (ipykernel)",
   "language": "python",
   "name": "python3"
  },
  "language_info": {
   "codemirror_mode": {
    "name": "ipython",
    "version": 3
   },
   "file_extension": ".py",
   "mimetype": "text/x-python",
   "name": "python",
   "nbconvert_exporter": "python",
   "pygments_lexer": "ipython3",
   "version": "3.9.12"
  }
 },
 "nbformat": 4,
 "nbformat_minor": 5
}
